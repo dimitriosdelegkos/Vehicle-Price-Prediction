{
 "cells": [
  {
   "cell_type": "markdown",
   "id": "62d202ab",
   "metadata": {},
   "source": [
    "# Linear Regression Project\n",
    "\n",
    "I will work with data related to different kind of vehicles.\n",
    "\n",
    "The **goal** of this project is to make a model which can predict the price of a vehicle, given a sequence of features."
   ]
  },
  {
   "cell_type": "markdown",
   "id": "ea0e9a9a",
   "metadata": {},
   "source": [
    "## Import the libraries"
   ]
  },
  {
   "cell_type": "code",
   "execution_count": 1,
   "id": "e0b5ca77",
   "metadata": {},
   "outputs": [],
   "source": [
    "import numpy as np\n",
    "import pandas as pd\n",
    "import matplotlib.pyplot as plt\n",
    "import seaborn as sns\n",
    "sns.set()"
   ]
  },
  {
   "cell_type": "markdown",
   "id": "2b1e664d",
   "metadata": {},
   "source": [
    "## Get the data\n",
    "\n",
    "The data includes Vehicle informations, such as the model, manufacturer,condition, size, color, etc."
   ]
  },
  {
   "cell_type": "code",
   "execution_count": 2,
   "id": "37a45336",
   "metadata": {},
   "outputs": [
    {
     "data": {
      "text/html": [
       "<div>\n",
       "<style scoped>\n",
       "    .dataframe tbody tr th:only-of-type {\n",
       "        vertical-align: middle;\n",
       "    }\n",
       "\n",
       "    .dataframe tbody tr th {\n",
       "        vertical-align: top;\n",
       "    }\n",
       "\n",
       "    .dataframe thead th {\n",
       "        text-align: right;\n",
       "    }\n",
       "</style>\n",
       "<table border=\"1\" class=\"dataframe\">\n",
       "  <thead>\n",
       "    <tr style=\"text-align: right;\">\n",
       "      <th></th>\n",
       "      <th>id</th>\n",
       "      <th>url</th>\n",
       "      <th>region</th>\n",
       "      <th>region_url</th>\n",
       "      <th>price</th>\n",
       "      <th>year</th>\n",
       "      <th>manufacturer</th>\n",
       "      <th>model</th>\n",
       "      <th>condition</th>\n",
       "      <th>cylinders</th>\n",
       "      <th>...</th>\n",
       "      <th>drive</th>\n",
       "      <th>size</th>\n",
       "      <th>type</th>\n",
       "      <th>paint_color</th>\n",
       "      <th>image_url</th>\n",
       "      <th>description</th>\n",
       "      <th>county</th>\n",
       "      <th>state</th>\n",
       "      <th>lat</th>\n",
       "      <th>long</th>\n",
       "    </tr>\n",
       "  </thead>\n",
       "  <tbody>\n",
       "    <tr>\n",
       "      <th>0</th>\n",
       "      <td>7184791621</td>\n",
       "      <td>https://duluth.craigslist.org/ctd/d/duluth-200...</td>\n",
       "      <td>duluth / superior</td>\n",
       "      <td>https://duluth.craigslist.org</td>\n",
       "      <td>6995</td>\n",
       "      <td>2000.0</td>\n",
       "      <td>gmc</td>\n",
       "      <td>new sierra 1500</td>\n",
       "      <td>excellent</td>\n",
       "      <td>8 cylinders</td>\n",
       "      <td>...</td>\n",
       "      <td>4wd</td>\n",
       "      <td>NaN</td>\n",
       "      <td>NaN</td>\n",
       "      <td>red</td>\n",
       "      <td>https://images.craigslist.org/00n0n_f06ykBMcdh...</td>\n",
       "      <td>2000 *** GMC New Sierra 1500 Ext Cab 157.5  WB...</td>\n",
       "      <td>NaN</td>\n",
       "      <td>mn</td>\n",
       "      <td>46.8433</td>\n",
       "      <td>-92.2550</td>\n",
       "    </tr>\n",
       "    <tr>\n",
       "      <th>1</th>\n",
       "      <td>7184773187</td>\n",
       "      <td>https://duluth.craigslist.org/cto/d/saginaw-20...</td>\n",
       "      <td>duluth / superior</td>\n",
       "      <td>https://duluth.craigslist.org</td>\n",
       "      <td>8750</td>\n",
       "      <td>2013.0</td>\n",
       "      <td>hyundai</td>\n",
       "      <td>sonata</td>\n",
       "      <td>excellent</td>\n",
       "      <td>4 cylinders</td>\n",
       "      <td>...</td>\n",
       "      <td>fwd</td>\n",
       "      <td>NaN</td>\n",
       "      <td>NaN</td>\n",
       "      <td>grey</td>\n",
       "      <td>https://images.craigslist.org/00d0d_kgZ6xoeRw2...</td>\n",
       "      <td>For Sale:  2013 Hyundai Sonata GLS - $8750.  O...</td>\n",
       "      <td>NaN</td>\n",
       "      <td>mn</td>\n",
       "      <td>46.9074</td>\n",
       "      <td>-92.4638</td>\n",
       "    </tr>\n",
       "    <tr>\n",
       "      <th>2</th>\n",
       "      <td>7193375964</td>\n",
       "      <td>https://newhaven.craigslist.org/cto/d/stratfor...</td>\n",
       "      <td>new haven</td>\n",
       "      <td>https://newhaven.craigslist.org</td>\n",
       "      <td>10900</td>\n",
       "      <td>2013.0</td>\n",
       "      <td>toyota</td>\n",
       "      <td>prius</td>\n",
       "      <td>good</td>\n",
       "      <td>4 cylinders</td>\n",
       "      <td>...</td>\n",
       "      <td>fwd</td>\n",
       "      <td>NaN</td>\n",
       "      <td>NaN</td>\n",
       "      <td>blue</td>\n",
       "      <td>https://images.craigslist.org/00d0d_3sHGxPbY2O...</td>\n",
       "      <td>2013 Prius V Model Two. One owner—must sell my...</td>\n",
       "      <td>NaN</td>\n",
       "      <td>ct</td>\n",
       "      <td>41.1770</td>\n",
       "      <td>-73.1336</td>\n",
       "    </tr>\n",
       "    <tr>\n",
       "      <th>3</th>\n",
       "      <td>7195108810</td>\n",
       "      <td>https://albuquerque.craigslist.org/cto/d/albuq...</td>\n",
       "      <td>albuquerque</td>\n",
       "      <td>https://albuquerque.craigslist.org</td>\n",
       "      <td>12500</td>\n",
       "      <td>2003.0</td>\n",
       "      <td>mitsubishi</td>\n",
       "      <td>lancer</td>\n",
       "      <td>good</td>\n",
       "      <td>4 cylinders</td>\n",
       "      <td>...</td>\n",
       "      <td>4wd</td>\n",
       "      <td>mid-size</td>\n",
       "      <td>sedan</td>\n",
       "      <td>grey</td>\n",
       "      <td>https://images.craigslist.org/00m0m_4a8Pb6JbMG...</td>\n",
       "      <td>2003 Mitsubishi Lancer Evolution, silver.  Abo...</td>\n",
       "      <td>NaN</td>\n",
       "      <td>nm</td>\n",
       "      <td>35.1868</td>\n",
       "      <td>-106.6650</td>\n",
       "    </tr>\n",
       "    <tr>\n",
       "      <th>4</th>\n",
       "      <td>7184712241</td>\n",
       "      <td>https://duluth.craigslist.org/ctd/d/rush-city-...</td>\n",
       "      <td>duluth / superior</td>\n",
       "      <td>https://duluth.craigslist.org</td>\n",
       "      <td>16995</td>\n",
       "      <td>2007.0</td>\n",
       "      <td>gmc</td>\n",
       "      <td>sierra classic 2500hd</td>\n",
       "      <td>good</td>\n",
       "      <td>8 cylinders</td>\n",
       "      <td>...</td>\n",
       "      <td>4wd</td>\n",
       "      <td>full-size</td>\n",
       "      <td>truck</td>\n",
       "      <td>white</td>\n",
       "      <td>https://images.craigslist.org/01414_g093aPtSMW...</td>\n",
       "      <td>**Bad Credit, No Credit... No Problem!**2007 G...</td>\n",
       "      <td>NaN</td>\n",
       "      <td>mn</td>\n",
       "      <td>45.6836</td>\n",
       "      <td>-92.9648</td>\n",
       "    </tr>\n",
       "  </tbody>\n",
       "</table>\n",
       "<p>5 rows × 25 columns</p>\n",
       "</div>"
      ],
      "text/plain": [
       "           id                                                url  \\\n",
       "0  7184791621  https://duluth.craigslist.org/ctd/d/duluth-200...   \n",
       "1  7184773187  https://duluth.craigslist.org/cto/d/saginaw-20...   \n",
       "2  7193375964  https://newhaven.craigslist.org/cto/d/stratfor...   \n",
       "3  7195108810  https://albuquerque.craigslist.org/cto/d/albuq...   \n",
       "4  7184712241  https://duluth.craigslist.org/ctd/d/rush-city-...   \n",
       "\n",
       "              region                          region_url  price    year  \\\n",
       "0  duluth / superior       https://duluth.craigslist.org   6995  2000.0   \n",
       "1  duluth / superior       https://duluth.craigslist.org   8750  2013.0   \n",
       "2          new haven     https://newhaven.craigslist.org  10900  2013.0   \n",
       "3        albuquerque  https://albuquerque.craigslist.org  12500  2003.0   \n",
       "4  duluth / superior       https://duluth.craigslist.org  16995  2007.0   \n",
       "\n",
       "  manufacturer                  model  condition    cylinders  ... drive  \\\n",
       "0          gmc        new sierra 1500  excellent  8 cylinders  ...   4wd   \n",
       "1      hyundai                 sonata  excellent  4 cylinders  ...   fwd   \n",
       "2       toyota                  prius       good  4 cylinders  ...   fwd   \n",
       "3   mitsubishi                 lancer       good  4 cylinders  ...   4wd   \n",
       "4          gmc  sierra classic 2500hd       good  8 cylinders  ...   4wd   \n",
       "\n",
       "        size   type paint_color  \\\n",
       "0        NaN    NaN         red   \n",
       "1        NaN    NaN        grey   \n",
       "2        NaN    NaN        blue   \n",
       "3   mid-size  sedan        grey   \n",
       "4  full-size  truck       white   \n",
       "\n",
       "                                           image_url  \\\n",
       "0  https://images.craigslist.org/00n0n_f06ykBMcdh...   \n",
       "1  https://images.craigslist.org/00d0d_kgZ6xoeRw2...   \n",
       "2  https://images.craigslist.org/00d0d_3sHGxPbY2O...   \n",
       "3  https://images.craigslist.org/00m0m_4a8Pb6JbMG...   \n",
       "4  https://images.craigslist.org/01414_g093aPtSMW...   \n",
       "\n",
       "                                         description county state      lat  \\\n",
       "0  2000 *** GMC New Sierra 1500 Ext Cab 157.5  WB...    NaN    mn  46.8433   \n",
       "1  For Sale:  2013 Hyundai Sonata GLS - $8750.  O...    NaN    mn  46.9074   \n",
       "2  2013 Prius V Model Two. One owner—must sell my...    NaN    ct  41.1770   \n",
       "3  2003 Mitsubishi Lancer Evolution, silver.  Abo...    NaN    nm  35.1868   \n",
       "4  **Bad Credit, No Credit... No Problem!**2007 G...    NaN    mn  45.6836   \n",
       "\n",
       "       long  \n",
       "0  -92.2550  \n",
       "1  -92.4638  \n",
       "2  -73.1336  \n",
       "3 -106.6650  \n",
       "4  -92.9648  \n",
       "\n",
       "[5 rows x 25 columns]"
      ]
     },
     "execution_count": 2,
     "metadata": {},
     "output_type": "execute_result"
    }
   ],
   "source": [
    "cars = pd.read_csv('data/vehicles.csv')\n",
    "cars.head()"
   ]
  },
  {
   "cell_type": "markdown",
   "id": "8cea15fb",
   "metadata": {},
   "source": [
    "## EDA and Preprocessing"
   ]
  },
  {
   "cell_type": "code",
   "execution_count": 3,
   "id": "ee3bf893",
   "metadata": {},
   "outputs": [
    {
     "data": {
      "text/plain": [
       "(423857, 25)"
      ]
     },
     "execution_count": 3,
     "metadata": {},
     "output_type": "execute_result"
    }
   ],
   "source": [
    "cars.shape"
   ]
  },
  {
   "cell_type": "code",
   "execution_count": 4,
   "id": "ad2720f0",
   "metadata": {},
   "outputs": [
    {
     "name": "stdout",
     "output_type": "stream",
     "text": [
      "<class 'pandas.core.frame.DataFrame'>\n",
      "RangeIndex: 423857 entries, 0 to 423856\n",
      "Data columns (total 25 columns):\n",
      " #   Column        Non-Null Count   Dtype  \n",
      "---  ------        --------------   -----  \n",
      " 0   id            423857 non-null  int64  \n",
      " 1   url           423857 non-null  object \n",
      " 2   region        423857 non-null  object \n",
      " 3   region_url    423857 non-null  object \n",
      " 4   price         423857 non-null  int64  \n",
      " 5   year          328743 non-null  float64\n",
      " 6   manufacturer  313242 non-null  object \n",
      " 7   model         325384 non-null  object \n",
      " 8   condition     176719 non-null  object \n",
      " 9   cylinders     197679 non-null  object \n",
      " 10  fuel          327214 non-null  object \n",
      " 11  odometer      270585 non-null  float64\n",
      " 12  title_status  327759 non-null  object \n",
      " 13  transmission  328065 non-null  object \n",
      " 14  vin           184420 non-null  object \n",
      " 15  drive         231119 non-null  object \n",
      " 16  size          102627 non-null  object \n",
      " 17  type          241157 non-null  object \n",
      " 18  paint_color   222203 non-null  object \n",
      " 19  image_url     329661 non-null  object \n",
      " 20  description   329654 non-null  object \n",
      " 21  county        0 non-null       float64\n",
      " 22  state         423857 non-null  object \n",
      " 23  lat           324404 non-null  float64\n",
      " 24  long          324404 non-null  float64\n",
      "dtypes: float64(5), int64(2), object(18)\n",
      "memory usage: 80.8+ MB\n"
     ]
    }
   ],
   "source": [
    "cars.info()"
   ]
  },
  {
   "cell_type": "code",
   "execution_count": 5,
   "id": "fa283a3f",
   "metadata": {},
   "outputs": [
    {
     "data": {
      "text/plain": [
       "id                                                     7191780500\n",
       "url             https://siouxfalls.craigslist.org/ctd/d/sioux-...\n",
       "region                                        sioux falls / SE SD\n",
       "region_url                      https://siouxfalls.craigslist.org\n",
       "price                                                        4900\n",
       "year                                                       2012.0\n",
       "manufacturer                                                 ford\n",
       "model                                          focus se hatchback\n",
       "condition                                               excellent\n",
       "cylinders                                             4 cylinders\n",
       "fuel                                                          gas\n",
       "odometer                                                     82.0\n",
       "title_status                                                clean\n",
       "transmission                                            automatic\n",
       "vin                                                           NaN\n",
       "drive                                                         fwd\n",
       "size                                                          NaN\n",
       "type                                                          NaN\n",
       "paint_color                                                   NaN\n",
       "image_url       https://images.craigslist.org/00w0w_hgoqdYbs2y...\n",
       "description     Selling great running 2012 Ford Focus E hatchb...\n",
       "county                                                        NaN\n",
       "state                                                          sd\n",
       "lat                                                       43.5625\n",
       "long                                                     -96.6978\n",
       "Name: 370090, dtype: object"
      ]
     },
     "execution_count": 5,
     "metadata": {},
     "output_type": "execute_result"
    }
   ],
   "source": [
    "cars.iloc[370090] #View a single observation"
   ]
  },
  {
   "cell_type": "markdown",
   "id": "087da1dc",
   "metadata": {},
   "source": [
    "Let's see which columns have the most Nan's"
   ]
  },
  {
   "cell_type": "code",
   "execution_count": 6,
   "id": "3c973c6c",
   "metadata": {},
   "outputs": [
    {
     "data": {
      "text/plain": [
       "county          423857\n",
       "size            321230\n",
       "condition       247138\n",
       "vin             239437\n",
       "cylinders       226178\n",
       "paint_color     201654\n",
       "drive           192738\n",
       "type            182700\n",
       "odometer        153272\n",
       "manufacturer    110615\n",
       "long             99453\n",
       "lat              99453\n",
       "model            98473\n",
       "fuel             96643\n",
       "title_status     96098\n",
       "transmission     95792\n",
       "year             95114\n",
       "description      94203\n",
       "image_url        94196\n",
       "url                  0\n",
       "price                0\n",
       "region_url           0\n",
       "state                0\n",
       "region               0\n",
       "id                   0\n",
       "dtype: int64"
      ]
     },
     "execution_count": 6,
     "metadata": {},
     "output_type": "execute_result"
    }
   ],
   "source": [
    "cars.isna().sum().sort_values(ascending=False)"
   ]
  },
  {
   "cell_type": "markdown",
   "id": "e69b3354",
   "metadata": {},
   "source": [
    "As we can see the `county` column has the most Nan's. Therefore, we can drop/delete it."
   ]
  },
  {
   "cell_type": "code",
   "execution_count": 7,
   "id": "d1bf5151",
   "metadata": {},
   "outputs": [],
   "source": [
    "cars.drop('county',axis=1,inplace=True)"
   ]
  },
  {
   "cell_type": "code",
   "execution_count": 8,
   "id": "4c20ecbf",
   "metadata": {},
   "outputs": [
    {
     "data": {
      "text/html": [
       "<div>\n",
       "<style scoped>\n",
       "    .dataframe tbody tr th:only-of-type {\n",
       "        vertical-align: middle;\n",
       "    }\n",
       "\n",
       "    .dataframe tbody tr th {\n",
       "        vertical-align: top;\n",
       "    }\n",
       "\n",
       "    .dataframe thead th {\n",
       "        text-align: right;\n",
       "    }\n",
       "</style>\n",
       "<table border=\"1\" class=\"dataframe\">\n",
       "  <thead>\n",
       "    <tr style=\"text-align: right;\">\n",
       "      <th></th>\n",
       "      <th>id</th>\n",
       "      <th>price</th>\n",
       "      <th>year</th>\n",
       "      <th>odometer</th>\n",
       "      <th>lat</th>\n",
       "      <th>long</th>\n",
       "    </tr>\n",
       "  </thead>\n",
       "  <tbody>\n",
       "    <tr>\n",
       "      <th>count</th>\n",
       "      <td>423857.00000</td>\n",
       "      <td>423857.00000</td>\n",
       "      <td>328743.00000</td>\n",
       "      <td>270585.00000</td>\n",
       "      <td>324404.00000</td>\n",
       "      <td>324404.00000</td>\n",
       "    </tr>\n",
       "    <tr>\n",
       "      <th>mean</th>\n",
       "      <td>7190602108.85049</td>\n",
       "      <td>57794.37478</td>\n",
       "      <td>2009.82736</td>\n",
       "      <td>99425.78461</td>\n",
       "      <td>38.73143</td>\n",
       "      <td>-93.94937</td>\n",
       "    </tr>\n",
       "    <tr>\n",
       "      <th>std</th>\n",
       "      <td>5159268.77874</td>\n",
       "      <td>10025805.11645</td>\n",
       "      <td>10.13581</td>\n",
       "      <td>120483.31239</td>\n",
       "      <td>5.90298</td>\n",
       "      <td>17.93057</td>\n",
       "    </tr>\n",
       "    <tr>\n",
       "      <th>min</th>\n",
       "      <td>7178301636.00000</td>\n",
       "      <td>0.00000</td>\n",
       "      <td>1900.00000</td>\n",
       "      <td>0.00000</td>\n",
       "      <td>-80.38640</td>\n",
       "      <td>-161.39400</td>\n",
       "    </tr>\n",
       "    <tr>\n",
       "      <th>25%</th>\n",
       "      <td>7186687550.00000</td>\n",
       "      <td>4499.00000</td>\n",
       "      <td>2007.00000</td>\n",
       "      <td>44324.00000</td>\n",
       "      <td>35.05450</td>\n",
       "      <td>-106.67800</td>\n",
       "    </tr>\n",
       "    <tr>\n",
       "      <th>50%</th>\n",
       "      <td>7192067820.00000</td>\n",
       "      <td>9995.00000</td>\n",
       "      <td>2012.00000</td>\n",
       "      <td>91749.00000</td>\n",
       "      <td>39.36690</td>\n",
       "      <td>-88.00990</td>\n",
       "    </tr>\n",
       "    <tr>\n",
       "      <th>75%</th>\n",
       "      <td>7194909078.00000</td>\n",
       "      <td>18995.00000</td>\n",
       "      <td>2016.00000</td>\n",
       "      <td>137237.00000</td>\n",
       "      <td>42.51708</td>\n",
       "      <td>-80.83250</td>\n",
       "    </tr>\n",
       "    <tr>\n",
       "      <th>max</th>\n",
       "      <td>7197006076.00000</td>\n",
       "      <td>3808256046.00000</td>\n",
       "      <td>2021.00000</td>\n",
       "      <td>10000000.00000</td>\n",
       "      <td>80.38340</td>\n",
       "      <td>115.52400</td>\n",
       "    </tr>\n",
       "  </tbody>\n",
       "</table>\n",
       "</div>"
      ],
      "text/plain": [
       "                     id             price          year        odometer  \\\n",
       "count      423857.00000      423857.00000  328743.00000    270585.00000   \n",
       "mean   7190602108.85049       57794.37478    2009.82736     99425.78461   \n",
       "std       5159268.77874    10025805.11645      10.13581    120483.31239   \n",
       "min    7178301636.00000           0.00000    1900.00000         0.00000   \n",
       "25%    7186687550.00000        4499.00000    2007.00000     44324.00000   \n",
       "50%    7192067820.00000        9995.00000    2012.00000     91749.00000   \n",
       "75%    7194909078.00000       18995.00000    2016.00000    137237.00000   \n",
       "max    7197006076.00000  3808256046.00000    2021.00000  10000000.00000   \n",
       "\n",
       "                lat          long  \n",
       "count  324404.00000  324404.00000  \n",
       "mean       38.73143     -93.94937  \n",
       "std         5.90298      17.93057  \n",
       "min       -80.38640    -161.39400  \n",
       "25%        35.05450    -106.67800  \n",
       "50%        39.36690     -88.00990  \n",
       "75%        42.51708     -80.83250  \n",
       "max        80.38340     115.52400  "
      ]
     },
     "execution_count": 8,
     "metadata": {},
     "output_type": "execute_result"
    }
   ],
   "source": [
    "cars.describe().apply(lambda s: s.apply('{0:.5f}'.format)) # Get an overview of the data"
   ]
  },
  {
   "cell_type": "markdown",
   "id": "c7de2493",
   "metadata": {},
   "source": [
    "#### Let's preprocess the numeric columns"
   ]
  },
  {
   "cell_type": "code",
   "execution_count": 9,
   "id": "d89b178d",
   "metadata": {},
   "outputs": [],
   "source": [
    "cars_preprocessing = cars.copy()"
   ]
  },
  {
   "cell_type": "markdown",
   "id": "767837d9",
   "metadata": {},
   "source": [
    "As we can see, the `price` column contains outliers"
   ]
  },
  {
   "cell_type": "code",
   "execution_count": 10,
   "id": "db65a334",
   "metadata": {},
   "outputs": [
    {
     "name": "stderr",
     "output_type": "stream",
     "text": [
      "F:\\Anaconda\\lib\\site-packages\\seaborn\\distributions.py:2557: FutureWarning: `distplot` is a deprecated function and will be removed in a future version. Please adapt your code to use either `displot` (a figure-level function with similar flexibility) or `histplot` (an axes-level function for histograms).\n",
      "  warnings.warn(msg, FutureWarning)\n"
     ]
    },
    {
     "data": {
      "text/plain": [
       "<AxesSubplot:ylabel='Density'>"
      ]
     },
     "execution_count": 10,
     "metadata": {},
     "output_type": "execute_result"
    },
    {
     "data": {
      "image/png": "[encoded data removed]",
      "text/plain": [
       "<Figure size 432x288 with 1 Axes>"
      ]
     },
     "metadata": {},
     "output_type": "display_data"
    }
   ],
   "source": [
    "sns.distplot(x=cars_preprocessing['price'])"
   ]
  },
  {
   "cell_type": "code",
   "execution_count": 11,
   "id": "1db2d47f",
   "metadata": {},
   "outputs": [],
   "source": [
    "# i will keep only the 99% of the data\n",
    "cars_preprocessing = cars_preprocessing[cars_preprocessing['price'] <=cars_preprocessing['price'].quantile(0.99)]"
   ]
  },
  {
   "cell_type": "code",
   "execution_count": 12,
   "id": "d8501ace",
   "metadata": {},
   "outputs": [
    {
     "name": "stderr",
     "output_type": "stream",
     "text": [
      "F:\\Anaconda\\lib\\site-packages\\seaborn\\distributions.py:2557: FutureWarning: `distplot` is a deprecated function and will be removed in a future version. Please adapt your code to use either `displot` (a figure-level function with similar flexibility) or `histplot` (an axes-level function for histograms).\n",
      "  warnings.warn(msg, FutureWarning)\n"
     ]
    },
    {
     "data": {
      "text/plain": [
       "<AxesSubplot:ylabel='Density'>"
      ]
     },
     "execution_count": 12,
     "metadata": {},
     "output_type": "execute_result"
    },
    {
     "data": {
      "image/png": "[encoded data removed]",
      "text/plain": [
       "<Figure size 432x288 with 1 Axes>"
      ]
     },
     "metadata": {},
     "output_type": "display_data"
    }
   ],
   "source": [
    "sns.distplot(x=cars_preprocessing['price'])"
   ]
  },
  {
   "cell_type": "markdown",
   "id": "f84a6d25",
   "metadata": {},
   "source": [
    "Let's apply the same logic for the `odometer` column"
   ]
  },
  {
   "cell_type": "code",
   "execution_count": 13,
   "id": "4ef73322",
   "metadata": {},
   "outputs": [],
   "source": [
    "cars_preprocessing = cars_preprocessing[cars_preprocessing['odometer'] <= cars_preprocessing['odometer'].quantile(0.99)]"
   ]
  },
  {
   "cell_type": "code",
   "execution_count": 14,
   "id": "7e4dbb0f",
   "metadata": {},
   "outputs": [
    {
     "data": {
      "text/html": [
       "<div>\n",
       "<style scoped>\n",
       "    .dataframe tbody tr th:only-of-type {\n",
       "        vertical-align: middle;\n",
       "    }\n",
       "\n",
       "    .dataframe tbody tr th {\n",
       "        vertical-align: top;\n",
       "    }\n",
       "\n",
       "    .dataframe thead th {\n",
       "        text-align: right;\n",
       "    }\n",
       "</style>\n",
       "<table border=\"1\" class=\"dataframe\">\n",
       "  <thead>\n",
       "    <tr style=\"text-align: right;\">\n",
       "      <th></th>\n",
       "      <th>id</th>\n",
       "      <th>price</th>\n",
       "      <th>year</th>\n",
       "      <th>odometer</th>\n",
       "      <th>lat</th>\n",
       "      <th>long</th>\n",
       "    </tr>\n",
       "  </thead>\n",
       "  <tbody>\n",
       "    <tr>\n",
       "      <th>count</th>\n",
       "      <td>265145.00000</td>\n",
       "      <td>265145.00000</td>\n",
       "      <td>264292.00000</td>\n",
       "      <td>265145.00000</td>\n",
       "      <td>260150.00000</td>\n",
       "      <td>260150.00000</td>\n",
       "    </tr>\n",
       "    <tr>\n",
       "      <th>mean</th>\n",
       "      <td>7189028347.78916</td>\n",
       "      <td>14210.95870</td>\n",
       "      <td>2011.02471</td>\n",
       "      <td>95209.84541</td>\n",
       "      <td>38.94257</td>\n",
       "      <td>-94.05325</td>\n",
       "    </tr>\n",
       "    <tr>\n",
       "      <th>std</th>\n",
       "      <td>4746142.82105</td>\n",
       "      <td>11973.84541</td>\n",
       "      <td>7.96437</td>\n",
       "      <td>59079.70238</td>\n",
       "      <td>5.86483</td>\n",
       "      <td>18.13387</td>\n",
       "    </tr>\n",
       "    <tr>\n",
       "      <th>min</th>\n",
       "      <td>7178301636.00000</td>\n",
       "      <td>0.00000</td>\n",
       "      <td>1901.00000</td>\n",
       "      <td>0.00000</td>\n",
       "      <td>-80.38640</td>\n",
       "      <td>-161.39400</td>\n",
       "    </tr>\n",
       "    <tr>\n",
       "      <th>25%</th>\n",
       "      <td>7185450731.00000</td>\n",
       "      <td>5495.00000</td>\n",
       "      <td>2008.00000</td>\n",
       "      <td>44998.00000</td>\n",
       "      <td>35.18100</td>\n",
       "      <td>-108.57950</td>\n",
       "    </tr>\n",
       "    <tr>\n",
       "      <th>50%</th>\n",
       "      <td>7189993494.00000</td>\n",
       "      <td>11200.00000</td>\n",
       "      <td>2013.00000</td>\n",
       "      <td>91686.00000</td>\n",
       "      <td>39.52350</td>\n",
       "      <td>-87.86480</td>\n",
       "    </tr>\n",
       "    <tr>\n",
       "      <th>75%</th>\n",
       "      <td>7193313458.00000</td>\n",
       "      <td>19975.00000</td>\n",
       "      <td>2016.00000</td>\n",
       "      <td>136025.00000</td>\n",
       "      <td>42.68500</td>\n",
       "      <td>-80.81123</td>\n",
       "    </tr>\n",
       "    <tr>\n",
       "      <th>max</th>\n",
       "      <td>7195225072.00000</td>\n",
       "      <td>61500.00000</td>\n",
       "      <td>2021.00000</td>\n",
       "      <td>275000.00000</td>\n",
       "      <td>65.74360</td>\n",
       "      <td>94.16320</td>\n",
       "    </tr>\n",
       "  </tbody>\n",
       "</table>\n",
       "</div>"
      ],
      "text/plain": [
       "                     id         price          year      odometer  \\\n",
       "count      265145.00000  265145.00000  264292.00000  265145.00000   \n",
       "mean   7189028347.78916   14210.95870    2011.02471   95209.84541   \n",
       "std       4746142.82105   11973.84541       7.96437   59079.70238   \n",
       "min    7178301636.00000       0.00000    1901.00000       0.00000   \n",
       "25%    7185450731.00000    5495.00000    2008.00000   44998.00000   \n",
       "50%    7189993494.00000   11200.00000    2013.00000   91686.00000   \n",
       "75%    7193313458.00000   19975.00000    2016.00000  136025.00000   \n",
       "max    7195225072.00000   61500.00000    2021.00000  275000.00000   \n",
       "\n",
       "                lat          long  \n",
       "count  260150.00000  260150.00000  \n",
       "mean       38.94257     -94.05325  \n",
       "std         5.86483      18.13387  \n",
       "min       -80.38640    -161.39400  \n",
       "25%        35.18100    -108.57950  \n",
       "50%        39.52350     -87.86480  \n",
       "75%        42.68500     -80.81123  \n",
       "max        65.74360      94.16320  "
      ]
     },
     "execution_count": 14,
     "metadata": {},
     "output_type": "execute_result"
    }
   ],
   "source": [
    "cars_preprocessing.describe().apply(lambda s: s.apply('{0:.5f}'.format))"
   ]
  },
  {
   "cell_type": "code",
   "execution_count": 15,
   "id": "50f79307",
   "metadata": {},
   "outputs": [
    {
     "data": {
      "text/plain": [
       "(265145, 24)"
      ]
     },
     "execution_count": 15,
     "metadata": {},
     "output_type": "execute_result"
    }
   ],
   "source": [
    "cars_preprocessing.shape"
   ]
  },
  {
   "cell_type": "markdown",
   "id": "93710b70",
   "metadata": {},
   "source": [
    "#### Now let's preprocess the object columns"
   ]
  },
  {
   "cell_type": "markdown",
   "id": "25dae4e5",
   "metadata": {},
   "source": [
    "* First we can display all the object columns"
   ]
  },
  {
   "cell_type": "code",
   "execution_count": 16,
   "id": "32869d4e",
   "metadata": {},
   "outputs": [
    {
     "data": {
      "text/plain": [
       "Index(['url', 'region', 'region_url', 'manufacturer', 'model', 'condition',\n",
       "       'cylinders', 'fuel', 'title_status', 'transmission', 'vin', 'drive',\n",
       "       'size', 'type', 'paint_color', 'image_url', 'description', 'state'],\n",
       "      dtype='object')"
      ]
     },
     "execution_count": 16,
     "metadata": {},
     "output_type": "execute_result"
    }
   ],
   "source": [
    "cars_preprocessing.select_dtypes('object').columns"
   ]
  },
  {
   "cell_type": "markdown",
   "id": "3aac41f9",
   "metadata": {},
   "source": [
    "* I will drop the `url`, `region_url`, `image_url` and `vin` columns, since they don't provide any significant information"
   ]
  },
  {
   "cell_type": "code",
   "execution_count": 17,
   "id": "7263cbe3",
   "metadata": {},
   "outputs": [],
   "source": [
    "cars_preprocessing.drop(['url','region_url','image_url','vin'],axis=1,inplace=True)"
   ]
  },
  {
   "cell_type": "code",
   "execution_count": 18,
   "id": "e102ab9c",
   "metadata": {},
   "outputs": [
    {
     "data": {
      "text/html": [
       "<div>\n",
       "<style scoped>\n",
       "    .dataframe tbody tr th:only-of-type {\n",
       "        vertical-align: middle;\n",
       "    }\n",
       "\n",
       "    .dataframe tbody tr th {\n",
       "        vertical-align: top;\n",
       "    }\n",
       "\n",
       "    .dataframe thead th {\n",
       "        text-align: right;\n",
       "    }\n",
       "</style>\n",
       "<table border=\"1\" class=\"dataframe\">\n",
       "  <thead>\n",
       "    <tr style=\"text-align: right;\">\n",
       "      <th></th>\n",
       "      <th>region</th>\n",
       "      <th>manufacturer</th>\n",
       "      <th>model</th>\n",
       "      <th>condition</th>\n",
       "      <th>cylinders</th>\n",
       "      <th>fuel</th>\n",
       "      <th>title_status</th>\n",
       "      <th>transmission</th>\n",
       "      <th>drive</th>\n",
       "      <th>size</th>\n",
       "      <th>type</th>\n",
       "      <th>paint_color</th>\n",
       "      <th>description</th>\n",
       "      <th>state</th>\n",
       "    </tr>\n",
       "  </thead>\n",
       "  <tbody>\n",
       "    <tr>\n",
       "      <th>0</th>\n",
       "      <td>duluth / superior</td>\n",
       "      <td>gmc</td>\n",
       "      <td>new sierra 1500</td>\n",
       "      <td>excellent</td>\n",
       "      <td>8 cylinders</td>\n",
       "      <td>gas</td>\n",
       "      <td>clean</td>\n",
       "      <td>automatic</td>\n",
       "      <td>4wd</td>\n",
       "      <td>NaN</td>\n",
       "      <td>NaN</td>\n",
       "      <td>red</td>\n",
       "      <td>2000 *** GMC New Sierra 1500 Ext Cab 157.5  WB...</td>\n",
       "      <td>mn</td>\n",
       "    </tr>\n",
       "    <tr>\n",
       "      <th>1</th>\n",
       "      <td>duluth / superior</td>\n",
       "      <td>hyundai</td>\n",
       "      <td>sonata</td>\n",
       "      <td>excellent</td>\n",
       "      <td>4 cylinders</td>\n",
       "      <td>gas</td>\n",
       "      <td>clean</td>\n",
       "      <td>automatic</td>\n",
       "      <td>fwd</td>\n",
       "      <td>NaN</td>\n",
       "      <td>NaN</td>\n",
       "      <td>grey</td>\n",
       "      <td>For Sale:  2013 Hyundai Sonata GLS - $8750.  O...</td>\n",
       "      <td>mn</td>\n",
       "    </tr>\n",
       "    <tr>\n",
       "      <th>2</th>\n",
       "      <td>new haven</td>\n",
       "      <td>toyota</td>\n",
       "      <td>prius</td>\n",
       "      <td>good</td>\n",
       "      <td>4 cylinders</td>\n",
       "      <td>hybrid</td>\n",
       "      <td>clean</td>\n",
       "      <td>automatic</td>\n",
       "      <td>fwd</td>\n",
       "      <td>NaN</td>\n",
       "      <td>NaN</td>\n",
       "      <td>blue</td>\n",
       "      <td>2013 Prius V Model Two. One owner—must sell my...</td>\n",
       "      <td>ct</td>\n",
       "    </tr>\n",
       "    <tr>\n",
       "      <th>4</th>\n",
       "      <td>duluth / superior</td>\n",
       "      <td>gmc</td>\n",
       "      <td>sierra classic 2500hd</td>\n",
       "      <td>good</td>\n",
       "      <td>8 cylinders</td>\n",
       "      <td>diesel</td>\n",
       "      <td>clean</td>\n",
       "      <td>automatic</td>\n",
       "      <td>4wd</td>\n",
       "      <td>full-size</td>\n",
       "      <td>truck</td>\n",
       "      <td>white</td>\n",
       "      <td>**Bad Credit, No Credit... No Problem!**2007 G...</td>\n",
       "      <td>mn</td>\n",
       "    </tr>\n",
       "    <tr>\n",
       "      <th>5</th>\n",
       "      <td>duluth / superior</td>\n",
       "      <td>ford</td>\n",
       "      <td>f-150</td>\n",
       "      <td>good</td>\n",
       "      <td>6 cylinders</td>\n",
       "      <td>gas</td>\n",
       "      <td>clean</td>\n",
       "      <td>automatic</td>\n",
       "      <td>4wd</td>\n",
       "      <td>full-size</td>\n",
       "      <td>truck</td>\n",
       "      <td>grey</td>\n",
       "      <td>**Bad Credit, No Credit... No Problem!**2012 F...</td>\n",
       "      <td>mn</td>\n",
       "    </tr>\n",
       "  </tbody>\n",
       "</table>\n",
       "</div>"
      ],
      "text/plain": [
       "              region manufacturer                  model  condition  \\\n",
       "0  duluth / superior          gmc        new sierra 1500  excellent   \n",
       "1  duluth / superior      hyundai                 sonata  excellent   \n",
       "2          new haven       toyota                  prius       good   \n",
       "4  duluth / superior          gmc  sierra classic 2500hd       good   \n",
       "5  duluth / superior         ford                  f-150       good   \n",
       "\n",
       "     cylinders    fuel title_status transmission drive       size   type  \\\n",
       "0  8 cylinders     gas        clean    automatic   4wd        NaN    NaN   \n",
       "1  4 cylinders     gas        clean    automatic   fwd        NaN    NaN   \n",
       "2  4 cylinders  hybrid        clean    automatic   fwd        NaN    NaN   \n",
       "4  8 cylinders  diesel        clean    automatic   4wd  full-size  truck   \n",
       "5  6 cylinders     gas        clean    automatic   4wd  full-size  truck   \n",
       "\n",
       "  paint_color                                        description state  \n",
       "0         red  2000 *** GMC New Sierra 1500 Ext Cab 157.5  WB...    mn  \n",
       "1        grey  For Sale:  2013 Hyundai Sonata GLS - $8750.  O...    mn  \n",
       "2        blue  2013 Prius V Model Two. One owner—must sell my...    ct  \n",
       "4       white  **Bad Credit, No Credit... No Problem!**2007 G...    mn  \n",
       "5        grey  **Bad Credit, No Credit... No Problem!**2012 F...    mn  "
      ]
     },
     "execution_count": 18,
     "metadata": {},
     "output_type": "execute_result"
    }
   ],
   "source": [
    "# Let's see the object columns\n",
    "cars_preprocessing.select_dtypes('object').head()"
   ]
  },
  {
   "cell_type": "markdown",
   "id": "460785e1",
   "metadata": {},
   "source": [
    "Checking the relative frequencies of the unique values of the `cylinders` column"
   ]
  },
  {
   "cell_type": "code",
   "execution_count": 19,
   "id": "21504a8b",
   "metadata": {},
   "outputs": [
    {
     "data": {
      "text/plain": [
       "NaN             0.348651\n",
       "4 cylinders     0.236742\n",
       "6 cylinders     0.233521\n",
       "8 cylinders     0.169134\n",
       "5 cylinders     0.005307\n",
       "10 cylinders    0.002678\n",
       "other           0.002150\n",
       "3 cylinders     0.001407\n",
       "12 cylinders    0.000411\n",
       "Name: cylinders, dtype: float64"
      ]
     },
     "execution_count": 19,
     "metadata": {},
     "output_type": "execute_result"
    }
   ],
   "source": [
    "cars_preprocessing['cylinders'].value_counts(normalize=True,dropna=False)"
   ]
  },
  {
   "cell_type": "markdown",
   "id": "cd880120",
   "metadata": {},
   "source": [
    "As we can see, the biggest proportion of the data is Nan (~35%). Moreover, i will keep only the first 4 values, since they represent the majority of the data."
   ]
  },
  {
   "cell_type": "code",
   "execution_count": 20,
   "id": "c26c988e",
   "metadata": {},
   "outputs": [],
   "source": [
    "cars_preprocessing = cars_preprocessing[cars_preprocessing['cylinders'].isin(['4 cylinders','6 cylinders','8 cylinders',np.nan])]"
   ]
  },
  {
   "cell_type": "markdown",
   "id": "e57878bc",
   "metadata": {},
   "source": [
    "Since there are many Nan values, i will 'fill' them with the value of 5.5, instead of deleting them"
   ]
  },
  {
   "cell_type": "code",
   "execution_count": 21,
   "id": "5d0ba28c",
   "metadata": {},
   "outputs": [],
   "source": [
    "cars_preprocessing.cylinders.fillna(5.5,inplace=True)"
   ]
  },
  {
   "cell_type": "code",
   "execution_count": 22,
   "id": "80c7f93d",
   "metadata": {},
   "outputs": [
    {
     "data": {
      "text/plain": [
       "5.5            0.352868\n",
       "4 cylinders    0.239606\n",
       "6 cylinders    0.236346\n",
       "8 cylinders    0.171180\n",
       "Name: cylinders, dtype: float64"
      ]
     },
     "execution_count": 22,
     "metadata": {},
     "output_type": "execute_result"
    }
   ],
   "source": [
    "cars_preprocessing.cylinders.value_counts(dropna=False,normalize=True)"
   ]
  },
  {
   "cell_type": "markdown",
   "id": "7344d745",
   "metadata": {},
   "source": [
    "Finally, i will map the string values into integers."
   ]
  },
  {
   "cell_type": "code",
   "execution_count": 23,
   "id": "799cef27",
   "metadata": {},
   "outputs": [],
   "source": [
    "cars_preprocessing['cylinders'] = cars_preprocessing['cylinders'].map({5.5:5.5,'4 cylinders':4,'6 cylinders':6,'8 cylinders':8})"
   ]
  },
  {
   "cell_type": "code",
   "execution_count": 24,
   "id": "5e36a716",
   "metadata": {},
   "outputs": [
    {
     "data": {
      "text/plain": [
       "(261976, 20)"
      ]
     },
     "execution_count": 24,
     "metadata": {},
     "output_type": "execute_result"
    }
   ],
   "source": [
    "cars_preprocessing.shape"
   ]
  },
  {
   "cell_type": "markdown",
   "id": "897db9a5",
   "metadata": {},
   "source": [
    "Once again, let's see the Nan's per object column."
   ]
  },
  {
   "cell_type": "code",
   "execution_count": 25,
   "id": "52ec2b1c",
   "metadata": {},
   "outputs": [
    {
     "data": {
      "text/plain": [
       "size            174462\n",
       "condition       115708\n",
       "paint_color      66959\n",
       "drive            60274\n",
       "type             47853\n",
       "manufacturer      9317\n",
       "fuel              2134\n",
       "model             1939\n",
       "title_status      1606\n",
       "transmission      1203\n",
       "description          6\n",
       "region               0\n",
       "state                0\n",
       "dtype: int64"
      ]
     },
     "execution_count": 25,
     "metadata": {},
     "output_type": "execute_result"
    }
   ],
   "source": [
    "cars_preprocessing.select_dtypes('object').isna().sum().sort_values(ascending=False)"
   ]
  },
  {
   "cell_type": "markdown",
   "id": "aab8a85c",
   "metadata": {},
   "source": [
    "Checking the relative frequencies of the unique values of the `size` column"
   ]
  },
  {
   "cell_type": "code",
   "execution_count": 26,
   "id": "4f54f134",
   "metadata": {},
   "outputs": [
    {
     "data": {
      "text/plain": [
       "NaN            0.665946\n",
       "full-size      0.169031\n",
       "mid-size       0.102215\n",
       "compact        0.053806\n",
       "sub-compact    0.009001\n",
       "Name: size, dtype: float64"
      ]
     },
     "execution_count": 26,
     "metadata": {},
     "output_type": "execute_result"
    }
   ],
   "source": [
    "cars_preprocessing['size'].value_counts(dropna=False,normalize=True)"
   ]
  },
  {
   "cell_type": "markdown",
   "id": "e4df2b71",
   "metadata": {},
   "source": [
    "Since the majority of the values are Nan's, i will drop the column"
   ]
  },
  {
   "cell_type": "code",
   "execution_count": 27,
   "id": "3cd3cdbd",
   "metadata": {},
   "outputs": [],
   "source": [
    "cars_preprocessing.drop('size',axis=1,inplace=True)"
   ]
  },
  {
   "cell_type": "markdown",
   "id": "f4347956",
   "metadata": {},
   "source": [
    "Checking the relative frequencies of the unique values of the `condition` column"
   ]
  },
  {
   "cell_type": "code",
   "execution_count": 28,
   "id": "7b255d4d",
   "metadata": {},
   "outputs": [
    {
     "data": {
      "text/plain": [
       "NaN          0.441674\n",
       "excellent    0.271563\n",
       "good         0.211836\n",
       "like new     0.054173\n",
       "fair         0.017063\n",
       "new          0.002512\n",
       "salvage      0.001179\n",
       "Name: condition, dtype: float64"
      ]
     },
     "execution_count": 28,
     "metadata": {},
     "output_type": "execute_result"
    }
   ],
   "source": [
    "cars_preprocessing['condition'].value_counts(dropna=False,normalize=True)"
   ]
  },
  {
   "cell_type": "markdown",
   "id": "389db53a",
   "metadata": {},
   "source": [
    "Again, i will drop it for the same reason"
   ]
  },
  {
   "cell_type": "code",
   "execution_count": 29,
   "id": "9cfe018b",
   "metadata": {},
   "outputs": [],
   "source": [
    "cars_preprocessing.drop('condition',axis=1,inplace=True)"
   ]
  },
  {
   "cell_type": "code",
   "execution_count": 30,
   "id": "6a38f1d1",
   "metadata": {},
   "outputs": [],
   "source": [
    "# Drop the id column\n",
    "cars_preprocessing.drop('id',axis=1,inplace = True)"
   ]
  },
  {
   "cell_type": "markdown",
   "id": "273f313d",
   "metadata": {},
   "source": [
    "Create dummies for the `state` column"
   ]
  },
  {
   "cell_type": "code",
   "execution_count": 31,
   "id": "eefc9fda",
   "metadata": {},
   "outputs": [],
   "source": [
    "dummies_for_state = pd.get_dummies(cars_preprocessing.state,drop_first=True,prefix='state')"
   ]
  },
  {
   "cell_type": "markdown",
   "id": "1c363c12",
   "metadata": {},
   "source": [
    "Join the dataframes"
   ]
  },
  {
   "cell_type": "code",
   "execution_count": 32,
   "id": "3f6cfb61",
   "metadata": {},
   "outputs": [],
   "source": [
    "cars_preprocessing = pd.concat([cars_preprocessing,dummies_for_state],axis=1)"
   ]
  },
  {
   "cell_type": "markdown",
   "id": "43f2e511",
   "metadata": {},
   "source": [
    "The unique values for the `region` column are too many. It isn't benefitial to get dummies for it. Therefore, i will drop it"
   ]
  },
  {
   "cell_type": "code",
   "execution_count": 33,
   "id": "cc38e47a",
   "metadata": {},
   "outputs": [
    {
     "data": {
      "text/plain": [
       "399"
      ]
     },
     "execution_count": 33,
     "metadata": {},
     "output_type": "execute_result"
    }
   ],
   "source": [
    "len(cars_preprocessing.region.value_counts())"
   ]
  },
  {
   "cell_type": "code",
   "execution_count": 34,
   "id": "86b7df8e",
   "metadata": {},
   "outputs": [],
   "source": [
    "cars_preprocessing.drop('region',axis=1,inplace=True)"
   ]
  },
  {
   "cell_type": "markdown",
   "id": "7acf3698",
   "metadata": {},
   "source": [
    "Let's deal with the `manufacturer` column"
   ]
  },
  {
   "cell_type": "code",
   "execution_count": 35,
   "id": "130a5a38",
   "metadata": {},
   "outputs": [
    {
     "data": {
      "text/plain": [
       "ford               0.179551\n",
       "chevrolet          0.138268\n",
       "toyota             0.082351\n",
       "honda              0.059055\n",
       "nissan             0.056108\n",
       "jeep               0.044493\n",
       "gmc                0.038992\n",
       "dodge              0.038469\n",
       "ram                0.037511\n",
       "NaN                0.035564\n",
       "hyundai            0.028281\n",
       "subaru             0.026388\n",
       "bmw                0.025266\n",
       "kia                0.022540\n",
       "mercedes-benz      0.021166\n",
       "volkswagen         0.020987\n",
       "chrysler           0.018131\n",
       "buick              0.014352\n",
       "cadillac           0.014265\n",
       "lexus              0.012906\n",
       "mazda              0.012772\n",
       "audi               0.010917\n",
       "acura              0.008944\n",
       "lincoln            0.007947\n",
       "infiniti           0.007703\n",
       "pontiac            0.006100\n",
       "mitsubishi         0.005814\n",
       "volvo              0.004481\n",
       "mini               0.004126\n",
       "mercury            0.003768\n",
       "rover              0.003756\n",
       "saturn             0.003126\n",
       "jaguar             0.002191\n",
       "fiat               0.001802\n",
       "tesla              0.000794\n",
       "alfa-romeo         0.000489\n",
       "harley-davidson    0.000393\n",
       "datsun             0.000145\n",
       "land rover         0.000038\n",
       "aston-martin       0.000015\n",
       "ferrari            0.000015\n",
       "porche             0.000011\n",
       "hennessey          0.000004\n",
       "morgan             0.000004\n",
       "Name: manufacturer, dtype: float64"
      ]
     },
     "execution_count": 35,
     "metadata": {},
     "output_type": "execute_result"
    }
   ],
   "source": [
    "cars_preprocessing.manufacturer.value_counts(dropna=False,normalize=True)"
   ]
  },
  {
   "cell_type": "markdown",
   "id": "ebeff5ad",
   "metadata": {},
   "source": [
    "For convenience i will keep those manufacturers who appear at least 1% in the data"
   ]
  },
  {
   "cell_type": "code",
   "execution_count": 36,
   "id": "ca942a6b",
   "metadata": {},
   "outputs": [
    {
     "data": {
      "text/plain": [
       "array(['ford', 'chevrolet', 'toyota', 'honda', 'nissan', 'jeep', 'gmc',\n",
       "       'dodge', 'ram', nan, 'hyundai', 'subaru', 'bmw', 'kia',\n",
       "       'mercedes-benz', 'volkswagen', 'chrysler', 'buick', 'cadillac',\n",
       "       'lexus', 'mazda', 'audi'], dtype=object)"
      ]
     },
     "execution_count": 36,
     "metadata": {},
     "output_type": "execute_result"
    }
   ],
   "source": [
    "cars_preprocessing.manufacturer.value_counts(dropna=False,normalize=True)[:22].index.values"
   ]
  },
  {
   "cell_type": "code",
   "execution_count": 37,
   "id": "58e28bef",
   "metadata": {},
   "outputs": [],
   "source": [
    "cars_preprocessing = cars_preprocessing[cars_preprocessing['manufacturer'].isin(['ford', 'chevrolet', 'toyota', 'honda', 'nissan', 'jeep', 'gmc',\n",
    "       'dodge', 'ram', 'hyundai', 'subaru', 'bmw', 'kia',\n",
    "       'mercedes-benz', 'volkswagen', 'chrysler', 'buick', 'cadillac',\n",
    "       'lexus', 'mazda', 'audi'])]"
   ]
  },
  {
   "cell_type": "code",
   "execution_count": 38,
   "id": "b0d88276",
   "metadata": {},
   "outputs": [
    {
     "data": {
      "text/html": [
       "<div>\n",
       "<style scoped>\n",
       "    .dataframe tbody tr th:only-of-type {\n",
       "        vertical-align: middle;\n",
       "    }\n",
       "\n",
       "    .dataframe tbody tr th {\n",
       "        vertical-align: top;\n",
       "    }\n",
       "\n",
       "    .dataframe thead th {\n",
       "        text-align: right;\n",
       "    }\n",
       "</style>\n",
       "<table border=\"1\" class=\"dataframe\">\n",
       "  <thead>\n",
       "    <tr style=\"text-align: right;\">\n",
       "      <th></th>\n",
       "      <th>price</th>\n",
       "      <th>year</th>\n",
       "      <th>manufacturer</th>\n",
       "      <th>model</th>\n",
       "      <th>cylinders</th>\n",
       "      <th>fuel</th>\n",
       "      <th>odometer</th>\n",
       "      <th>title_status</th>\n",
       "      <th>transmission</th>\n",
       "      <th>drive</th>\n",
       "      <th>...</th>\n",
       "      <th>state_sd</th>\n",
       "      <th>state_tn</th>\n",
       "      <th>state_tx</th>\n",
       "      <th>state_ut</th>\n",
       "      <th>state_va</th>\n",
       "      <th>state_vt</th>\n",
       "      <th>state_wa</th>\n",
       "      <th>state_wi</th>\n",
       "      <th>state_wv</th>\n",
       "      <th>state_wy</th>\n",
       "    </tr>\n",
       "  </thead>\n",
       "  <tbody>\n",
       "    <tr>\n",
       "      <th>0</th>\n",
       "      <td>6995</td>\n",
       "      <td>2000.0</td>\n",
       "      <td>gmc</td>\n",
       "      <td>new sierra 1500</td>\n",
       "      <td>8.0</td>\n",
       "      <td>gas</td>\n",
       "      <td>167783.0</td>\n",
       "      <td>clean</td>\n",
       "      <td>automatic</td>\n",
       "      <td>4wd</td>\n",
       "      <td>...</td>\n",
       "      <td>0</td>\n",
       "      <td>0</td>\n",
       "      <td>0</td>\n",
       "      <td>0</td>\n",
       "      <td>0</td>\n",
       "      <td>0</td>\n",
       "      <td>0</td>\n",
       "      <td>0</td>\n",
       "      <td>0</td>\n",
       "      <td>0</td>\n",
       "    </tr>\n",
       "    <tr>\n",
       "      <th>1</th>\n",
       "      <td>8750</td>\n",
       "      <td>2013.0</td>\n",
       "      <td>hyundai</td>\n",
       "      <td>sonata</td>\n",
       "      <td>4.0</td>\n",
       "      <td>gas</td>\n",
       "      <td>90821.0</td>\n",
       "      <td>clean</td>\n",
       "      <td>automatic</td>\n",
       "      <td>fwd</td>\n",
       "      <td>...</td>\n",
       "      <td>0</td>\n",
       "      <td>0</td>\n",
       "      <td>0</td>\n",
       "      <td>0</td>\n",
       "      <td>0</td>\n",
       "      <td>0</td>\n",
       "      <td>0</td>\n",
       "      <td>0</td>\n",
       "      <td>0</td>\n",
       "      <td>0</td>\n",
       "    </tr>\n",
       "    <tr>\n",
       "      <th>2</th>\n",
       "      <td>10900</td>\n",
       "      <td>2013.0</td>\n",
       "      <td>toyota</td>\n",
       "      <td>prius</td>\n",
       "      <td>4.0</td>\n",
       "      <td>hybrid</td>\n",
       "      <td>92800.0</td>\n",
       "      <td>clean</td>\n",
       "      <td>automatic</td>\n",
       "      <td>fwd</td>\n",
       "      <td>...</td>\n",
       "      <td>0</td>\n",
       "      <td>0</td>\n",
       "      <td>0</td>\n",
       "      <td>0</td>\n",
       "      <td>0</td>\n",
       "      <td>0</td>\n",
       "      <td>0</td>\n",
       "      <td>0</td>\n",
       "      <td>0</td>\n",
       "      <td>0</td>\n",
       "    </tr>\n",
       "    <tr>\n",
       "      <th>4</th>\n",
       "      <td>16995</td>\n",
       "      <td>2007.0</td>\n",
       "      <td>gmc</td>\n",
       "      <td>sierra classic 2500hd</td>\n",
       "      <td>8.0</td>\n",
       "      <td>diesel</td>\n",
       "      <td>254217.0</td>\n",
       "      <td>clean</td>\n",
       "      <td>automatic</td>\n",
       "      <td>4wd</td>\n",
       "      <td>...</td>\n",
       "      <td>0</td>\n",
       "      <td>0</td>\n",
       "      <td>0</td>\n",
       "      <td>0</td>\n",
       "      <td>0</td>\n",
       "      <td>0</td>\n",
       "      <td>0</td>\n",
       "      <td>0</td>\n",
       "      <td>0</td>\n",
       "      <td>0</td>\n",
       "    </tr>\n",
       "    <tr>\n",
       "      <th>5</th>\n",
       "      <td>13995</td>\n",
       "      <td>2012.0</td>\n",
       "      <td>ford</td>\n",
       "      <td>f-150</td>\n",
       "      <td>6.0</td>\n",
       "      <td>gas</td>\n",
       "      <td>188406.0</td>\n",
       "      <td>clean</td>\n",
       "      <td>automatic</td>\n",
       "      <td>4wd</td>\n",
       "      <td>...</td>\n",
       "      <td>0</td>\n",
       "      <td>0</td>\n",
       "      <td>0</td>\n",
       "      <td>0</td>\n",
       "      <td>0</td>\n",
       "      <td>0</td>\n",
       "      <td>0</td>\n",
       "      <td>0</td>\n",
       "      <td>0</td>\n",
       "      <td>0</td>\n",
       "    </tr>\n",
       "  </tbody>\n",
       "</table>\n",
       "<p>5 rows × 66 columns</p>\n",
       "</div>"
      ],
      "text/plain": [
       "   price    year manufacturer                  model  cylinders    fuel  \\\n",
       "0   6995  2000.0          gmc        new sierra 1500        8.0     gas   \n",
       "1   8750  2013.0      hyundai                 sonata        4.0     gas   \n",
       "2  10900  2013.0       toyota                  prius        4.0  hybrid   \n",
       "4  16995  2007.0          gmc  sierra classic 2500hd        8.0  diesel   \n",
       "5  13995  2012.0         ford                  f-150        6.0     gas   \n",
       "\n",
       "   odometer title_status transmission drive  ... state_sd state_tn state_tx  \\\n",
       "0  167783.0        clean    automatic   4wd  ...        0        0        0   \n",
       "1   90821.0        clean    automatic   fwd  ...        0        0        0   \n",
       "2   92800.0        clean    automatic   fwd  ...        0        0        0   \n",
       "4  254217.0        clean    automatic   4wd  ...        0        0        0   \n",
       "5  188406.0        clean    automatic   4wd  ...        0        0        0   \n",
       "\n",
       "  state_ut  state_va  state_vt  state_wa  state_wi  state_wv  state_wy  \n",
       "0        0         0         0         0         0         0         0  \n",
       "1        0         0         0         0         0         0         0  \n",
       "2        0         0         0         0         0         0         0  \n",
       "4        0         0         0         0         0         0         0  \n",
       "5        0         0         0         0         0         0         0  \n",
       "\n",
       "[5 rows x 66 columns]"
      ]
     },
     "execution_count": 38,
     "metadata": {},
     "output_type": "execute_result"
    }
   ],
   "source": [
    "cars_preprocessing.head()"
   ]
  },
  {
   "cell_type": "markdown",
   "id": "3e7f9c32",
   "metadata": {},
   "source": [
    "Create dummies for the `manufacturer` column"
   ]
  },
  {
   "cell_type": "code",
   "execution_count": 39,
   "id": "d4935e49",
   "metadata": {},
   "outputs": [],
   "source": [
    "dummies_for_manufacturer = pd.get_dummies(cars_preprocessing.manufacturer,drop_first=True)"
   ]
  },
  {
   "cell_type": "markdown",
   "id": "1c363c12",
   "metadata": {},
   "source": [
    "Join the dataframes"
   ]
  },
  {
   "cell_type": "code",
   "execution_count": 40,
   "id": "06b839c2",
   "metadata": {},
   "outputs": [],
   "source": [
    "cars_preprocessing = pd.concat([cars_preprocessing,dummies_for_manufacturer],axis=1)"
   ]
  },
  {
   "cell_type": "code",
   "execution_count": 41,
   "id": "b23816d6",
   "metadata": {},
   "outputs": [],
   "source": [
    "cars_preprocessing.drop('manufacturer',axis=1,inplace=True)"
   ]
  },
  {
   "cell_type": "code",
   "execution_count": 42,
   "id": "6cf3ec90",
   "metadata": {},
   "outputs": [
    {
     "data": {
      "text/html": [
       "<div>\n",
       "<style scoped>\n",
       "    .dataframe tbody tr th:only-of-type {\n",
       "        vertical-align: middle;\n",
       "    }\n",
       "\n",
       "    .dataframe tbody tr th {\n",
       "        vertical-align: top;\n",
       "    }\n",
       "\n",
       "    .dataframe thead th {\n",
       "        text-align: right;\n",
       "    }\n",
       "</style>\n",
       "<table border=\"1\" class=\"dataframe\">\n",
       "  <thead>\n",
       "    <tr style=\"text-align: right;\">\n",
       "      <th></th>\n",
       "      <th>model</th>\n",
       "      <th>fuel</th>\n",
       "      <th>title_status</th>\n",
       "      <th>transmission</th>\n",
       "      <th>drive</th>\n",
       "      <th>type</th>\n",
       "      <th>paint_color</th>\n",
       "      <th>description</th>\n",
       "      <th>state</th>\n",
       "    </tr>\n",
       "  </thead>\n",
       "  <tbody>\n",
       "    <tr>\n",
       "      <th>0</th>\n",
       "      <td>new sierra 1500</td>\n",
       "      <td>gas</td>\n",
       "      <td>clean</td>\n",
       "      <td>automatic</td>\n",
       "      <td>4wd</td>\n",
       "      <td>NaN</td>\n",
       "      <td>red</td>\n",
       "      <td>2000 *** GMC New Sierra 1500 Ext Cab 157.5  WB...</td>\n",
       "      <td>mn</td>\n",
       "    </tr>\n",
       "    <tr>\n",
       "      <th>1</th>\n",
       "      <td>sonata</td>\n",
       "      <td>gas</td>\n",
       "      <td>clean</td>\n",
       "      <td>automatic</td>\n",
       "      <td>fwd</td>\n",
       "      <td>NaN</td>\n",
       "      <td>grey</td>\n",
       "      <td>For Sale:  2013 Hyundai Sonata GLS - $8750.  O...</td>\n",
       "      <td>mn</td>\n",
       "    </tr>\n",
       "    <tr>\n",
       "      <th>2</th>\n",
       "      <td>prius</td>\n",
       "      <td>hybrid</td>\n",
       "      <td>clean</td>\n",
       "      <td>automatic</td>\n",
       "      <td>fwd</td>\n",
       "      <td>NaN</td>\n",
       "      <td>blue</td>\n",
       "      <td>2013 Prius V Model Two. One owner—must sell my...</td>\n",
       "      <td>ct</td>\n",
       "    </tr>\n",
       "    <tr>\n",
       "      <th>4</th>\n",
       "      <td>sierra classic 2500hd</td>\n",
       "      <td>diesel</td>\n",
       "      <td>clean</td>\n",
       "      <td>automatic</td>\n",
       "      <td>4wd</td>\n",
       "      <td>truck</td>\n",
       "      <td>white</td>\n",
       "      <td>**Bad Credit, No Credit... No Problem!**2007 G...</td>\n",
       "      <td>mn</td>\n",
       "    </tr>\n",
       "    <tr>\n",
       "      <th>5</th>\n",
       "      <td>f-150</td>\n",
       "      <td>gas</td>\n",
       "      <td>clean</td>\n",
       "      <td>automatic</td>\n",
       "      <td>4wd</td>\n",
       "      <td>truck</td>\n",
       "      <td>grey</td>\n",
       "      <td>**Bad Credit, No Credit... No Problem!**2012 F...</td>\n",
       "      <td>mn</td>\n",
       "    </tr>\n",
       "  </tbody>\n",
       "</table>\n",
       "</div>"
      ],
      "text/plain": [
       "                   model    fuel title_status transmission drive   type  \\\n",
       "0        new sierra 1500     gas        clean    automatic   4wd    NaN   \n",
       "1                 sonata     gas        clean    automatic   fwd    NaN   \n",
       "2                  prius  hybrid        clean    automatic   fwd    NaN   \n",
       "4  sierra classic 2500hd  diesel        clean    automatic   4wd  truck   \n",
       "5                  f-150     gas        clean    automatic   4wd  truck   \n",
       "\n",
       "  paint_color                                        description state  \n",
       "0         red  2000 *** GMC New Sierra 1500 Ext Cab 157.5  WB...    mn  \n",
       "1        grey  For Sale:  2013 Hyundai Sonata GLS - $8750.  O...    mn  \n",
       "2        blue  2013 Prius V Model Two. One owner—must sell my...    ct  \n",
       "4       white  **Bad Credit, No Credit... No Problem!**2007 G...    mn  \n",
       "5        grey  **Bad Credit, No Credit... No Problem!**2012 F...    mn  "
      ]
     },
     "execution_count": 42,
     "metadata": {},
     "output_type": "execute_result"
    }
   ],
   "source": [
    "cars_preprocessing.select_dtypes('object').head()"
   ]
  },
  {
   "cell_type": "markdown",
   "id": "ac9bff65",
   "metadata": {},
   "source": [
    "Let's explore the `model` column"
   ]
  },
  {
   "cell_type": "code",
   "execution_count": 43,
   "id": "e9e2ce0d",
   "metadata": {},
   "outputs": [
    {
     "data": {
      "text/plain": [
       "f-150             5110\n",
       "silverado 1500    3224\n",
       "escape            2738\n",
       "1500              2404\n",
       "camry             2296\n",
       "accord            2096\n",
       "altima            2082\n",
       "explorer          2082\n",
       "grand cherokee    1930\n",
       "civic             1929\n",
       "corolla           1760\n",
       "equinox           1742\n",
       "fusion            1705\n",
       "grand caravan     1668\n",
       "silverado         1622\n",
       "malibu            1614\n",
       "mustang           1525\n",
       "focus             1509\n",
       "cr-v              1504\n",
       "wrangler          1392\n",
       "rogue             1359\n",
       "cruze             1355\n",
       "tacoma            1343\n",
       "outback           1328\n",
       "2500              1326\n",
       "tahoe             1311\n",
       "rav4              1255\n",
       "edge              1238\n",
       "impala            1214\n",
       "elantra           1207\n",
       "Name: model, dtype: int64"
      ]
     },
     "execution_count": 43,
     "metadata": {},
     "output_type": "execute_result"
    }
   ],
   "source": [
    "cars_preprocessing.model.value_counts()[:30]"
   ]
  },
  {
   "cell_type": "markdown",
   "id": "c0f0c5b1",
   "metadata": {},
   "source": [
    "I will drop it since it contains too many different values (it isn't benefitial to get dummies for it)"
   ]
  },
  {
   "cell_type": "code",
   "execution_count": 44,
   "id": "006bd996",
   "metadata": {},
   "outputs": [],
   "source": [
    "cars_preprocessing.drop('model',axis=1,inplace=True)"
   ]
  },
  {
   "cell_type": "markdown",
   "id": "27d781a6",
   "metadata": {},
   "source": [
    "Let's explore the `fuel` column"
   ]
  },
  {
   "cell_type": "code",
   "execution_count": 45,
   "id": "08d2f326",
   "metadata": {},
   "outputs": [
    {
     "data": {
      "text/plain": [
       "gas         0.876099\n",
       "diesel      0.064130\n",
       "other       0.037598\n",
       "hybrid      0.013048\n",
       "NaN         0.007095\n",
       "electric    0.002030\n",
       "Name: fuel, dtype: float64"
      ]
     },
     "execution_count": 45,
     "metadata": {},
     "output_type": "execute_result"
    }
   ],
   "source": [
    "cars_preprocessing.fuel.value_counts(dropna=False,normalize=True)"
   ]
  },
  {
   "cell_type": "markdown",
   "id": "2c04ca59",
   "metadata": {},
   "source": [
    "I will keep only the top 2 categories"
   ]
  },
  {
   "cell_type": "code",
   "execution_count": 46,
   "id": "66bb3bd5",
   "metadata": {},
   "outputs": [],
   "source": [
    "cars_preprocessing = cars_preprocessing[cars_preprocessing['fuel'].isin(['gas','diesel'])]"
   ]
  },
  {
   "cell_type": "markdown",
   "id": "a90d27d7",
   "metadata": {},
   "source": [
    "* Convert the string values into integers"
   ]
  },
  {
   "cell_type": "code",
   "execution_count": 47,
   "id": "54252086",
   "metadata": {},
   "outputs": [],
   "source": [
    "cars_preprocessing['fuel'] = cars_preprocessing['fuel'].map({'gas':0,'diesel':1})"
   ]
  },
  {
   "cell_type": "markdown",
   "id": "f1f26ab0",
   "metadata": {},
   "source": [
    "Drop the `state` column"
   ]
  },
  {
   "cell_type": "code",
   "execution_count": 48,
   "id": "393869b5",
   "metadata": {},
   "outputs": [],
   "source": [
    "cars_preprocessing.drop('state',axis=1,inplace=True)"
   ]
  },
  {
   "cell_type": "markdown",
   "id": "e108f0f7",
   "metadata": {},
   "source": [
    "Let's explore the `title_status` column"
   ]
  },
  {
   "cell_type": "code",
   "execution_count": 49,
   "id": "105286b0",
   "metadata": {},
   "outputs": [
    {
     "data": {
      "text/plain": [
       "clean         0.961595\n",
       "rebuilt       0.018996\n",
       "salvage       0.008900\n",
       "lien          0.006071\n",
       "NaN           0.003589\n",
       "missing       0.000616\n",
       "parts only    0.000234\n",
       "Name: title_status, dtype: float64"
      ]
     },
     "execution_count": 49,
     "metadata": {},
     "output_type": "execute_result"
    }
   ],
   "source": [
    "cars_preprocessing.title_status.value_counts(normalize=True,dropna=False)"
   ]
  },
  {
   "cell_type": "markdown",
   "id": "3532f1e7",
   "metadata": {},
   "source": [
    "I will keep only the top categories"
   ]
  },
  {
   "cell_type": "code",
   "execution_count": 50,
   "id": "fd17c79f",
   "metadata": {},
   "outputs": [],
   "source": [
    "cars_preprocessing = cars_preprocessing[cars_preprocessing['title_status'].isin(['clean','rebuilt'])]"
   ]
  },
  {
   "cell_type": "markdown",
   "id": "a90d27d7",
   "metadata": {},
   "source": [
    "* Convert the string values into integers"
   ]
  },
  {
   "cell_type": "code",
   "execution_count": 51,
   "id": "aa98de40",
   "metadata": {},
   "outputs": [],
   "source": [
    "cars_preprocessing['title_status'] = cars_preprocessing['title_status'].map({'clean':0,'rebuilt':1})"
   ]
  },
  {
   "cell_type": "markdown",
   "id": "b75db86d",
   "metadata": {},
   "source": [
    "Let's explore the `transmission` column"
   ]
  },
  {
   "cell_type": "code",
   "execution_count": 52,
   "id": "5b9e98b3",
   "metadata": {},
   "outputs": [
    {
     "data": {
      "text/plain": [
       "automatic    0.903275\n",
       "manual       0.056207\n",
       "other        0.036927\n",
       "NaN          0.003591\n",
       "Name: transmission, dtype: float64"
      ]
     },
     "execution_count": 52,
     "metadata": {},
     "output_type": "execute_result"
    }
   ],
   "source": [
    "cars_preprocessing.transmission.value_counts(normalize=True,dropna=False)"
   ]
  },
  {
   "cell_type": "markdown",
   "id": "18510a2b",
   "metadata": {},
   "source": [
    "Again, i will keep only the top categories"
   ]
  },
  {
   "cell_type": "code",
   "execution_count": 53,
   "id": "1226f43a",
   "metadata": {},
   "outputs": [],
   "source": [
    "cars_preprocessing = cars_preprocessing[cars_preprocessing['transmission'].isin(['automatic','manual'])]"
   ]
  },
  {
   "cell_type": "markdown",
   "id": "a90d27d7",
   "metadata": {},
   "source": [
    "* Convert the string values into integers"
   ]
  },
  {
   "cell_type": "code",
   "execution_count": 54,
   "id": "f39be480",
   "metadata": {},
   "outputs": [],
   "source": [
    "cars_preprocessing['transmission']=cars_preprocessing['transmission'].map({'automatic':0,'manual':1})"
   ]
  },
  {
   "cell_type": "markdown",
   "id": "965e929d",
   "metadata": {},
   "source": [
    "Now, let's see the `drive` column"
   ]
  },
  {
   "cell_type": "code",
   "execution_count": 55,
   "id": "bcf7931d",
   "metadata": {},
   "outputs": [
    {
     "data": {
      "text/plain": [
       "4wd    0.351812\n",
       "fwd    0.305759\n",
       "NaN    0.216957\n",
       "rwd    0.125473\n",
       "Name: drive, dtype: float64"
      ]
     },
     "execution_count": 55,
     "metadata": {},
     "output_type": "execute_result"
    }
   ],
   "source": [
    "cars_preprocessing.drive.value_counts(normalize=True,dropna=False)"
   ]
  },
  {
   "cell_type": "markdown",
   "id": "ebc55e87",
   "metadata": {},
   "source": [
    "I will keep those categories which are not Nan's"
   ]
  },
  {
   "cell_type": "code",
   "execution_count": 56,
   "id": "ac6e2642",
   "metadata": {},
   "outputs": [],
   "source": [
    "cars_preprocessing = cars_preprocessing[cars_preprocessing['drive'].notna()]"
   ]
  },
  {
   "cell_type": "markdown",
   "id": "d1615039",
   "metadata": {},
   "source": [
    "Now it's time to create dummies for this column"
   ]
  },
  {
   "cell_type": "code",
   "execution_count": 57,
   "id": "c1cc1284",
   "metadata": {},
   "outputs": [],
   "source": [
    "dummies_for_drive = pd.get_dummies(cars_preprocessing.drive,drop_first=True)"
   ]
  },
  {
   "cell_type": "code",
   "execution_count": 58,
   "id": "05537610",
   "metadata": {},
   "outputs": [],
   "source": [
    "cars_preprocessing = pd.concat([cars_preprocessing,dummies_for_drive],axis=1)\n",
    "cars_preprocessing.drop('drive',axis=1,inplace=True)"
   ]
  },
  {
   "cell_type": "markdown",
   "id": "9ff208d4",
   "metadata": {},
   "source": [
    "Let's explore the `type` column"
   ]
  },
  {
   "cell_type": "code",
   "execution_count": 59,
   "id": "7899cf41",
   "metadata": {},
   "outputs": [
    {
     "data": {
      "text/plain": [
       "SUV            0.252902\n",
       "sedan          0.242361\n",
       "truck          0.116752\n",
       "NaN            0.113578\n",
       "pickup         0.090584\n",
       "coupe          0.037937\n",
       "wagon          0.034201\n",
       "van            0.029440\n",
       "hatchback      0.024941\n",
       "mini-van       0.022445\n",
       "convertible    0.017140\n",
       "other          0.015291\n",
       "offroad        0.001770\n",
       "bus            0.000659\n",
       "Name: type, dtype: float64"
      ]
     },
     "execution_count": 59,
     "metadata": {},
     "output_type": "execute_result"
    }
   ],
   "source": [
    "cars_preprocessing.type.value_counts(normalize=True,dropna=False)"
   ]
  },
  {
   "cell_type": "markdown",
   "id": "e322d01a",
   "metadata": {},
   "source": [
    "As we can see, there are too many different values. Therefore i will drop it."
   ]
  },
  {
   "cell_type": "code",
   "execution_count": 60,
   "id": "8b535b5a",
   "metadata": {},
   "outputs": [],
   "source": [
    "cars_preprocessing.drop('type',axis=1,inplace=True)"
   ]
  },
  {
   "cell_type": "markdown",
   "id": "726b35c9",
   "metadata": {},
   "source": [
    "Same process for the `paint_color` column"
   ]
  },
  {
   "cell_type": "code",
   "execution_count": 61,
   "id": "55fc56b0",
   "metadata": {},
   "outputs": [
    {
     "data": {
      "text/plain": [
       "white     0.203545\n",
       "NaN       0.186491\n",
       "black     0.157899\n",
       "silver    0.123479\n",
       "grey      0.087971\n",
       "blue      0.084401\n",
       "red       0.079896\n",
       "custom    0.025674\n",
       "green     0.020503\n",
       "brown     0.017946\n",
       "yellow    0.005268\n",
       "orange    0.004743\n",
       "purple    0.002185\n",
       "Name: paint_color, dtype: float64"
      ]
     },
     "execution_count": 61,
     "metadata": {},
     "output_type": "execute_result"
    }
   ],
   "source": [
    "cars_preprocessing.paint_color.value_counts(normalize=True,dropna=False)"
   ]
  },
  {
   "cell_type": "code",
   "execution_count": 62,
   "id": "9e3031c6",
   "metadata": {},
   "outputs": [],
   "source": [
    "cars_preprocessing.drop('paint_color',axis=1,inplace=True)"
   ]
  },
  {
   "cell_type": "markdown",
   "id": "ed705e45",
   "metadata": {},
   "source": [
    "Finally, i will drop the `lat`, `long` and `description` columns."
   ]
  },
  {
   "cell_type": "code",
   "execution_count": 63,
   "id": "c1ea3f0a",
   "metadata": {},
   "outputs": [],
   "source": [
    "cars_preprocessing.drop(['lat', 'long','description'],axis=1,inplace=True)"
   ]
  },
  {
   "cell_type": "code",
   "execution_count": 64,
   "id": "702f0835",
   "metadata": {},
   "outputs": [
    {
     "data": {
      "text/html": [
       "<div>\n",
       "<style scoped>\n",
       "    .dataframe tbody tr th:only-of-type {\n",
       "        vertical-align: middle;\n",
       "    }\n",
       "\n",
       "    .dataframe tbody tr th {\n",
       "        vertical-align: top;\n",
       "    }\n",
       "\n",
       "    .dataframe thead th {\n",
       "        text-align: right;\n",
       "    }\n",
       "</style>\n",
       "<table border=\"1\" class=\"dataframe\">\n",
       "  <thead>\n",
       "    <tr style=\"text-align: right;\">\n",
       "      <th></th>\n",
       "      <th>count</th>\n",
       "      <th>mean</th>\n",
       "      <th>std</th>\n",
       "      <th>min</th>\n",
       "      <th>25%</th>\n",
       "      <th>50%</th>\n",
       "      <th>75%</th>\n",
       "      <th>max</th>\n",
       "    </tr>\n",
       "  </thead>\n",
       "  <tbody>\n",
       "    <tr>\n",
       "      <th>price</th>\n",
       "      <td>163826.0</td>\n",
       "      <td>14100.274187</td>\n",
       "      <td>11862.796102</td>\n",
       "      <td>0.0</td>\n",
       "      <td>5500.0</td>\n",
       "      <td>10999.0</td>\n",
       "      <td>19700.0</td>\n",
       "      <td>61500.0</td>\n",
       "    </tr>\n",
       "    <tr>\n",
       "      <th>year</th>\n",
       "      <td>163826.0</td>\n",
       "      <td>2011.108957</td>\n",
       "      <td>7.617973</td>\n",
       "      <td>1921.0</td>\n",
       "      <td>2008.0</td>\n",
       "      <td>2013.0</td>\n",
       "      <td>2016.0</td>\n",
       "      <td>2021.0</td>\n",
       "    </tr>\n",
       "    <tr>\n",
       "      <th>cylinders</th>\n",
       "      <td>163826.0</td>\n",
       "      <td>5.733739</td>\n",
       "      <td>1.404855</td>\n",
       "      <td>4.0</td>\n",
       "      <td>4.0</td>\n",
       "      <td>5.5</td>\n",
       "      <td>6.0</td>\n",
       "      <td>8.0</td>\n",
       "    </tr>\n",
       "    <tr>\n",
       "      <th>fuel</th>\n",
       "      <td>163826.0</td>\n",
       "      <td>0.073212</td>\n",
       "      <td>0.260485</td>\n",
       "      <td>0.0</td>\n",
       "      <td>0.0</td>\n",
       "      <td>0.0</td>\n",
       "      <td>0.0</td>\n",
       "      <td>1.0</td>\n",
       "    </tr>\n",
       "    <tr>\n",
       "      <th>odometer</th>\n",
       "      <td>163826.0</td>\n",
       "      <td>98127.164766</td>\n",
       "      <td>59067.097620</td>\n",
       "      <td>0.0</td>\n",
       "      <td>48474.0</td>\n",
       "      <td>94800.0</td>\n",
       "      <td>139000.0</td>\n",
       "      <td>275000.0</td>\n",
       "    </tr>\n",
       "  </tbody>\n",
       "</table>\n",
       "</div>"
      ],
      "text/plain": [
       "              count          mean           std     min      25%      50%  \\\n",
       "price      163826.0  14100.274187  11862.796102     0.0   5500.0  10999.0   \n",
       "year       163826.0   2011.108957      7.617973  1921.0   2008.0   2013.0   \n",
       "cylinders  163826.0      5.733739      1.404855     4.0      4.0      5.5   \n",
       "fuel       163826.0      0.073212      0.260485     0.0      0.0      0.0   \n",
       "odometer   163826.0  98127.164766  59067.097620     0.0  48474.0  94800.0   \n",
       "\n",
       "                75%       max  \n",
       "price       19700.0   61500.0  \n",
       "year         2016.0    2021.0  \n",
       "cylinders       6.0       8.0  \n",
       "fuel            0.0       1.0  \n",
       "odometer   139000.0  275000.0  "
      ]
     },
     "execution_count": 64,
     "metadata": {},
     "output_type": "execute_result"
    }
   ],
   "source": [
    "pd.options.display.max_rows = 9999\n",
    "cars_preprocessing.describe().T[:5]"
   ]
  },
  {
   "cell_type": "markdown",
   "id": "ddca03c0",
   "metadata": {},
   "source": [
    "As we can see, the minimum value in the `price` column is 0. Therefore, i will filter the data"
   ]
  },
  {
   "cell_type": "code",
   "execution_count": 65,
   "id": "261a2aea",
   "metadata": {},
   "outputs": [
    {
     "data": {
      "text/plain": [
       "<AxesSubplot:ylabel='Frequency'>"
      ]
     },
     "execution_count": 65,
     "metadata": {},
     "output_type": "execute_result"
    },
    {
     "data": {
      "image/png": "[encoded data removed]",
      "text/plain": [
       "<Figure size 432x288 with 1 Axes>"
      ]
     },
     "metadata": {},
     "output_type": "display_data"
    }
   ],
   "source": [
    "cars_preprocessing['price'].plot.hist()"
   ]
  },
  {
   "cell_type": "code",
   "execution_count": 66,
   "id": "fd0544fc",
   "metadata": {},
   "outputs": [],
   "source": [
    "cars_preprocessing = cars_preprocessing[cars_preprocessing['price'] >= 799]"
   ]
  },
  {
   "cell_type": "markdown",
   "id": "5bdbfaab",
   "metadata": {},
   "source": [
    "Now it's time to declare the *features* and the *target* variables"
   ]
  },
  {
   "cell_type": "code",
   "execution_count": 67,
   "id": "265ccdae",
   "metadata": {},
   "outputs": [],
   "source": [
    "x= cars_preprocessing.drop('price',axis=1)\n",
    "y = cars_preprocessing['price']"
   ]
  },
  {
   "cell_type": "markdown",
   "id": "996bccfc",
   "metadata": {},
   "source": [
    "## Scale te data"
   ]
  },
  {
   "cell_type": "code",
   "execution_count": 68,
   "id": "bf6c40e3",
   "metadata": {},
   "outputs": [],
   "source": [
    "from sklearn.preprocessing import StandardScaler\n",
    "\n",
    "scaler = StandardScaler()\n",
    "\n",
    "x_scaled = scaler.fit_transform(x)"
   ]
  },
  {
   "cell_type": "markdown",
   "id": "8e4c8691",
   "metadata": {},
   "source": [
    "## Train - Test Split"
   ]
  },
  {
   "cell_type": "code",
   "execution_count": 69,
   "id": "ac0010af",
   "metadata": {},
   "outputs": [],
   "source": [
    "from sklearn.model_selection import train_test_split\n",
    "\n",
    "x_train, x_test, y_train, y_test = train_test_split(x_scaled,y,test_size=0.2,random_state=101)"
   ]
  },
  {
   "cell_type": "code",
   "execution_count": 70,
   "id": "7ea566b4",
   "metadata": {},
   "outputs": [
    {
     "name": "stdout",
     "output_type": "stream",
     "text": [
      "(117770, 78) (117770,) (29443, 78) (29443,)\n"
     ]
    }
   ],
   "source": [
    "print(x_train.shape,y_train.shape,x_test.shape,y_test.shape)"
   ]
  },
  {
   "cell_type": "markdown",
   "id": "5d9fcc6f",
   "metadata": {},
   "source": [
    "## Train different models"
   ]
  },
  {
   "cell_type": "code",
   "execution_count": 71,
   "id": "7a138fe2",
   "metadata": {},
   "outputs": [],
   "source": [
    "from sklearn.metrics import mean_absolute_error"
   ]
  },
  {
   "cell_type": "markdown",
   "id": "85e599d3",
   "metadata": {},
   "source": [
    "* Decision Tree Regression"
   ]
  },
  {
   "cell_type": "code",
   "execution_count": 72,
   "id": "bc50108d",
   "metadata": {},
   "outputs": [
    {
     "name": "stdout",
     "output_type": "stream",
     "text": [
      "R^2 is: 0.8352842714981314\n"
     ]
    }
   ],
   "source": [
    "from sklearn.tree import DecisionTreeRegressor\n",
    "\n",
    "dtr = DecisionTreeRegressor()\n",
    "\n",
    "dtr.fit(x_train,y_train)\n",
    "\n",
    "R_squared = dtr.score(x_test,y_test)\n",
    "\n",
    "print('R^2 is:', R_squared)"
   ]
  },
  {
   "cell_type": "code",
   "execution_count": 73,
   "id": "0fbf00e0",
   "metadata": {},
   "outputs": [
    {
     "name": "stdout",
     "output_type": "stream",
     "text": [
      "Mean Absolute Error:  2305.92406965181\n"
     ]
    }
   ],
   "source": [
    "MAE = mean_absolute_error(y_test,dtr.predict(x_test))\n",
    "print('Mean Absolute Error: ', MAE)"
   ]
  },
  {
   "cell_type": "markdown",
   "id": "85e599d3",
   "metadata": {},
   "source": [
    "* Random Forest Regression"
   ]
  },
  {
   "cell_type": "code",
   "execution_count": 74,
   "id": "746c3c34",
   "metadata": {},
   "outputs": [
    {
     "name": "stdout",
     "output_type": "stream",
     "text": [
      "R^2 is: 0.8992121632731297\n"
     ]
    }
   ],
   "source": [
    "from sklearn.ensemble import RandomForestRegressor\n",
    "\n",
    "rfr = RandomForestRegressor(n_estimators=200)\n",
    "\n",
    "rfr.fit(x_train,y_train)\n",
    "\n",
    "R_squared = rfr.score(x_test,y_test)\n",
    "print('R^2 is:', R_squared)"
   ]
  },
  {
   "cell_type": "code",
   "execution_count": 75,
   "id": "41339b51",
   "metadata": {},
   "outputs": [
    {
     "name": "stdout",
     "output_type": "stream",
     "text": [
      "Mean Absolute Error:  2023.8819761407183\n"
     ]
    }
   ],
   "source": [
    "MAE = mean_absolute_error(y_test,rfr.predict(x_test))\n",
    "print('Mean Absolute Error: ', MAE)"
   ]
  },
  {
   "cell_type": "markdown",
   "id": "85e599d3",
   "metadata": {},
   "source": [
    "* XGBoost Regression"
   ]
  },
  {
   "cell_type": "code",
   "execution_count": 76,
   "id": "462f1d65",
   "metadata": {},
   "outputs": [
    {
     "name": "stdout",
     "output_type": "stream",
     "text": [
      "R^2 is: 0.8542906157976013\n"
     ]
    }
   ],
   "source": [
    "from xgboost import XGBRegressor\n",
    "\n",
    "xgbr = XGBRegressor()\n",
    "\n",
    "xgbr.fit(x_train,y_train)\n",
    "\n",
    "R_squared = xgbr.score(x_test,y_test)\n",
    "print('R^2 is:', R_squared)"
   ]
  },
  {
   "cell_type": "code",
   "execution_count": 77,
   "id": "41339b51",
   "metadata": {},
   "outputs": [
    {
     "name": "stdout",
     "output_type": "stream",
     "text": [
      "Mean Absolute Error:  2931.4157570615207\n"
     ]
    }
   ],
   "source": [
    "MAE = mean_absolute_error(y_test,xgbr.predict(x_test))\n",
    "print('Mean Absolute Error: ', MAE)"
   ]
  },
  {
   "cell_type": "markdown",
   "id": "2796b6f3",
   "metadata": {},
   "source": [
    "## Conclusion"
   ]
  },
  {
   "cell_type": "markdown",
   "id": "00c1d175",
   "metadata": {},
   "source": [
    "#### Overall, Random Forest Regressor is the best model, with ~90% accuracy"
   ]
  }
 ],
 "metadata": {
  "kernelspec": {
   "display_name": "Python 3",
   "language": "python",
   "name": "python3"
  },
  "language_info": {
   "codemirror_mode": {
    "name": "ipython",
    "version": 3
   },
   "file_extension": ".py",
   "mimetype": "text/x-python",
   "name": "python",
   "nbconvert_exporter": "python",
   "pygments_lexer": "ipython3",
   "version": "3.8.8"
  }
 },
 "nbformat": 4,
 "nbformat_minor": 5
}
